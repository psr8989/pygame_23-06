{
 "cells": [
  {
   "cell_type": "code",
   "execution_count": 5,
   "id": "ba049c0e",
   "metadata": {},
   "outputs": [],
   "source": [
    "import pygame\n",
    "\n",
    "# 초기화 -> 변수 선언\n",
    "pygame.init()\n",
    "\n",
    "# 2. 게임화면 설정 -> 크기 고정\n",
    "size =[400,900]\n",
    "screen = pygame.display.set_mode(size)\n",
    "title = \"Using PyGame\"\n",
    "pygame.display.set_caption(title)\n",
    "\n",
    "# 3. 게임 화면 내부 설정 -> 변수\n",
    "clock = pygame.time.Clock()\n",
    "\n",
    "black = (0,0,0)\n",
    "grey = (100,100,100)\n",
    "color1 = (134,52,235)\n",
    "color2 = (121,144,169)\n",
    "\n",
    "k = 0\n",
    "\n",
    "# 4. 메인 이벤트\n",
    "system_exit = 0\n",
    "\n",
    "while(system_exit == 0):\n",
    "# 4 - 1) FPS(Frame Per Second)설정\n",
    "    clock.tick(60)\n",
    "    \n",
    "# 4 - 2) 입력(키보드,마우스) 감지\n",
    "    for event in pygame.event.get():\n",
    "        if event.type == pygame.QUIT:\n",
    "            system_exit = 1\n",
    "            \n",
    "# 4 - 3) 변화(입력 / 시간에 따른 변화)\n",
    "    k += 1\n",
    "    if k % 2 == 0:\n",
    "        color = color1\n",
    "    else:\n",
    "        color = color2\n",
    "# 4 - 4) 전사작업(그리기)\n",
    "    screen.fill(color)\n",
    "# 4 - 5) 업데이트\n",
    "    pygame.display.flip()\n",
    "\n",
    "# 5. 종료\n",
    "pygame.quit()\n",
    "\n"
   ]
  }
 ],
 "metadata": {
  "kernelspec": {
   "display_name": "Python 3 (ipykernel)",
   "language": "python",
   "name": "python3"
  },
  "language_info": {
   "codemirror_mode": {
    "name": "ipython",
    "version": 3
   },
   "file_extension": ".py",
   "mimetype": "text/x-python",
   "name": "python",
   "nbconvert_exporter": "python",
   "pygments_lexer": "ipython3",
   "version": "3.10.9"
  }
 },
 "nbformat": 4,
 "nbformat_minor": 5
}
